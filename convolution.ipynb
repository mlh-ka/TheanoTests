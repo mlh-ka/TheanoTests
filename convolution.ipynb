{
 "cells": [
  {
   "cell_type": "code",
   "execution_count": 1,
   "metadata": {
    "collapsed": false
   },
   "outputs": [
    {
     "name": "stdout",
     "output_type": "stream",
     "text": [
      "[[  0.   0.   0.   0.   0.]\n",
      " [  0.  42.   0.   0.   0.]\n",
      " [  0.   0.   0.  50.   0.]\n",
      " [  0.   0.   0.   0.   0.]\n",
      " [  0.   0.   0.   0.   0.]]\n"
     ]
    }
   ],
   "source": [
    "# inserting in location some values\n",
    "\n",
    "import theano \n",
    "import theano.tensor as T\n",
    "import numpy\n",
    "T_location = T.imatrix(\"location\")\n",
    "T_values = T.vector(\"values\")\n",
    "output_model = T.matrix(\"output_model\")\n",
    "\n",
    "def step(a_location, a_values, output_model):\n",
    "    return T.set_subtensor(output_model[a_location[0], a_location[1]], a_values)\n",
    "\n",
    "result, updates = theano.scan(fn=step,\n",
    "                              outputs_info=T.zeros((5, 5)),\n",
    "                              sequences=[T_location, T_values])\n",
    "\n",
    "assign_values_at_positions = theano.function(inputs=[T_location, T_values], outputs=result[-1])\n",
    "\n",
    "# test\n",
    "test_locations = numpy.asarray([[1, 1], [2, 3]], dtype=numpy.int32)\n",
    "test_values = numpy.asarray([42, 50], dtype=numpy.float32)\n",
    "test_output_model = numpy.zeros((5, 5), dtype=numpy.float32)\n",
    "print(assign_values_at_positions(test_locations, test_values))\n",
    "\n",
    "\n"
   ]
  },
  {
   "cell_type": "code",
   "execution_count": 2,
   "metadata": {
    "collapsed": false
   },
   "outputs": [
    {
     "name": "stdout",
     "output_type": "stream",
     "text": [
      "[[  0.   0.   0.   0.   0.]\n",
      " [  0.  42.   0.   0.   0.]\n",
      " [  0.   0.   0.  50.   0.]\n",
      " [  0.   0.   0.   0.   0.]\n",
      " [  0.   0.   0.   0.   0.]]\n"
     ]
    }
   ],
   "source": [
    "# inserting in locations some value using an index \n",
    "import theano \n",
    "import theano.tensor as T\n",
    "import numpy\n",
    "T_location = T.imatrix(\"location\")\n",
    "T_values = T.vector(\"values\")\n",
    "output_model = T.matrix(\"output_model\")\n",
    "T_i = T.ivector(\"i\")\n",
    "\n",
    "def step(i, output_model, a_location, a_values):\n",
    "    return T.set_subtensor(output_model[a_location[i, 0], a_location[i, 1]], a_values[i])\n",
    "\n",
    "result, updates = theano.scan(fn=step,\n",
    "                              outputs_info=T.zeros((5, 5)),\n",
    "                              sequences=[T_i],\n",
    "                              non_sequences=[T_location, T_values])\n",
    "\n",
    "assign_values_at_positions = theano.function(inputs=[T_i, T_location, T_values], outputs=result[-1])\n",
    "\n",
    "# test\n",
    "test_locations = numpy.asarray([[1, 1], [2, 3]], dtype=numpy.int32)\n",
    "test_values = numpy.asarray([42, 50], dtype=numpy.float32)\n",
    "test_i = [0, 1]\n",
    "print(assign_values_at_positions(test_i, test_locations, test_values))\n"
   ]
  },
  {
   "cell_type": "code",
   "execution_count": 3,
   "metadata": {
    "collapsed": false
   },
   "outputs": [
    {
     "name": "stdout",
     "output_type": "stream",
     "text": [
      "[ 4.09767962  4.22223425]\n"
     ]
    }
   ],
   "source": [
    "# Window function with some operator... no stide here\n",
    "import theano \n",
    "import theano.tensor as T\n",
    "import numpy\n",
    "\n",
    "T_location = T.imatrix(\"location\") # indices of window in image\n",
    "T_images = T.fmatrix(\"images\")\n",
    "T_stride = T.scalar(\"stride\")\n",
    "T_fsize = T.iscalar(\"fsize\")\n",
    "\n",
    "\n",
    "def step(location, images, fsize):\n",
    "    img = images[location[0]:location[0] + fsize, location[1]:location[1] + fsize]\n",
    "    ope = T.sum(img) # add some operation \n",
    "    return ope\n",
    "\n",
    "result, updates = theano.scan(fn=step,\n",
    "                              sequences=[T_location],\n",
    "                              non_sequences=[T_images, T_fsize])\n",
    "\n",
    "f = theano.function(inputs=[T_location, T_images, T_fsize], outputs=result)\n",
    "\n",
    "# test\n",
    "test_locations = numpy.asarray([[1, 1], [2, 3]], dtype=numpy.int32)\n",
    "test_images = numpy.random.random((10, 10))\n",
    "test_images = test_images.astype(numpy.float32)\n",
    "test_fsize = 3\n",
    "print(f(test_locations, test_images, test_fsize))\n",
    "\n",
    "\n"
   ]
  },
  {
   "cell_type": "code",
   "execution_count": 4,
   "metadata": {
    "collapsed": false
   },
   "outputs": [
    {
     "name": "stdout",
     "output_type": "stream",
     "text": [
      "[0 0 0 1 1 1 1 2 2 2 2 3 3 3 3 4 4 4 4 5 5 5 5 6 6 6 6 7 7 7 7 8]\n",
      "[2 4 6 0 2 4 6 0 2 4 6 0 2 4 6 0 2 4 6 0 2 4 6 0 2 4 6 0 2 4 6 0]\n"
     ]
    }
   ],
   "source": [
    "# Window function2 - \"Sum\" - convolution\n",
    "import theano \n",
    "import theano.tensor as T\n",
    "import numpy\n",
    "\n",
    "T_location = T.imatrix(\"location\") # indices of window in image\n",
    "T_images = T.fmatrix(\"images\")\n",
    "T_stride = T.scalar(\"stride\")\n",
    "T_fsize = T.iscalar(\"fsize\")\n",
    "T_i = T.iscalar(\"index\")\n",
    "T_j = T.iscalar(\"index2\")\n",
    "\n",
    "\n",
    "def step(i, j, images, fsize, stride):\n",
    "    img = images[i:i + fsize, j:j + fsize]\n",
    "    ope = T.sum(img) # add some operation \n",
    "    s = images.shape[1] - fsize + 1\n",
    "    \n",
    "    i = i + (j+stride) // s\n",
    "    j = (j+stride) % s\n",
    "    j = j.astype(\"int32\"); i = i.astype(\"int32\")\n",
    "    return i, j, ope, img\n",
    "\n",
    "result, updates = theano.scan(fn=step,\n",
    "                              outputs_info=[T_i, T_j, None, None],\n",
    "                              non_sequences=[T_images, T_fsize, T_stride], \n",
    "                              n_steps=32)\n",
    "\n",
    "assign_values_at_positions = theano.function(inputs=[T_i, T_j, T_images, T_fsize, T_stride], outputs=result)\n",
    "\n",
    "# test\n",
    "test_images = numpy.zeros((10, 10))\n",
    "test_images[0, 0] = 1\n",
    "test_images[0, 1] = 1\n",
    "test_images[0, 2] = 1\n",
    "test_images[9, 9] = 1\n",
    "\n",
    "test_images = test_images.astype(numpy.float32)\n",
    "\n",
    "test_fsize = 3\n",
    "i, j, x, img = (assign_values_at_positions(0, 0, test_images, test_fsize, 2))\n",
    "print(i)\n",
    "print(j)\n"
   ]
  },
  {
   "cell_type": "code",
   "execution_count": 5,
   "metadata": {
    "collapsed": false
   },
   "outputs": [
    {
     "name": "stdout",
     "output_type": "stream",
     "text": [
      "[ 0.80000001  0.5         0.5         0.          0.          0.          0.\n",
      "  0.          0.          0.          0.          0.          0.          0.\n",
      "  0.          0.          0.          0.          0.          0.          0.\n",
      "  0.          0.          0.          0.          0.          0.          0.\n",
      "  0.          0.          0.          0.          0.          0.          0.\n",
      "  0.          0.          0.          0.          0.          0.          0.\n",
      "  0.          0.          0.          0.          0.          0.          0.\n",
      "  0.          0.          0.          0.          0.          0.          0.\n",
      "  0.          0.          0.          0.          0.          0.          0.\n",
      "  0.30000001]\n"
     ]
    }
   ],
   "source": [
    "# Window function3 - convolution - with stride and a weight matrix\n",
    "# for some strides and image sizes this will not work....\n",
    "# the patches have to fit perfectly in the image\n",
    "\n",
    "import theano \n",
    "import theano.tensor as T\n",
    "import numpy\n",
    "\n",
    "T_images = T.fmatrix(\"images\")\n",
    "T_stride = T.scalar(\"stride\")\n",
    "T_fsize = T.iscalar(\"fsize\")\n",
    "T_i = T.iscalar(\"index\")\n",
    "T_j = T.iscalar(\"index2\")\n",
    "T_w = T.fmatrix(\"W\")\n",
    "\n",
    "\n",
    "def step(i, j, images, fsize, stride, W):\n",
    "    img = images[i:i + fsize, j:j + fsize]\n",
    "    \n",
    "    ope = T.sum(T.dot(img, W)) # add some operation  \n",
    "    s = images.shape[1] - fsize + 1\n",
    "    \n",
    "    i = i + (j+stride) // s # works only in some cases (if window fits perfectly in image)\n",
    "    j = (j+stride) % s\n",
    "    j = j.astype(\"int32\"); i = i.astype(\"int32\")\n",
    "    return i, j, ope\n",
    "\n",
    "result, updates = theano.scan(fn=step,\n",
    "                              outputs_info=[T_i, T_j, None],\n",
    "                              non_sequences=[T_images, T_fsize, T_stride, T_w], \n",
    "                              n_steps=64)\n",
    "\n",
    "assign_values_at_positions = theano.function(inputs=[T_i, T_j, T_images, T_fsize, T_stride, T_w], outputs=result)\n",
    "\n",
    "# test\n",
    "test_images = numpy.zeros((10, 10))\n",
    "test_images[0, 0] = 1\n",
    "test_images[0, 1] = 1\n",
    "test_images[0, 2] = 1\n",
    "test_images[9, 9] = 1\n",
    "\n",
    "test_images = test_images.astype(numpy.float32)\n",
    "test_W = numpy.zeros((3, 3))\n",
    "test_W[0, 0] = 0.5\n",
    "test_W[2, 2] = 0.3\n",
    "\n",
    "test_W = test_W.astype(numpy.float32)\n",
    "test_fsize = 3\n",
    "i, j, conv = (assign_values_at_positions(0, 0, test_images, test_fsize, 1, test_W))\n",
    "print(conv)"
   ]
  },
  {
   "cell_type": "code",
   "execution_count": 6,
   "metadata": {
    "collapsed": false
   },
   "outputs": [
    {
     "name": "stdout",
     "output_type": "stream",
     "text": [
      "[0 0 0 0 0 0 0 0 1 1 1 1 1 1 1 1 1 2 2 2 2 2 2 2 2 2 3 3 3 3 3 3 3 3 3 4 4\n",
      " 4 4 4 4 4 4 4 5 5 5 5 5 5 5 5 5 6 6 6 6 6 6 6 6 6 7 7]\n",
      "[1 2 3 4 5 6 7 8 0 1 2 3 4 5 6 7 8 0 1 2 3 4 5 6 7 8 0 1 2 3 4 5 6 7 8 0 1\n",
      " 2 3 4 5 6 7 8 0 1 2 3 4 5 6 7 8 0 1 2 3 4 5 6 7 8 0 1]\n",
      "(64, 2, 4)\n"
     ]
    }
   ],
   "source": [
    "# Window function3 - convolution\n",
    "# always works\n",
    "# works on multiple images (batches) and with images with multiple channels\n",
    "# the weight matrix may contain multiple filters\n",
    "\n",
    "import theano \n",
    "import theano.tensor as T\n",
    "import numpy\n",
    "from theano.ifelse import ifelse\n",
    "\n",
    "T_images = T.ftensor4(\"images\") # NFHW\n",
    "T_stride = T.iscalar(\"stride\")\n",
    "T_fsize = T.iscalar(\"fsize\")\n",
    "T_i = T.iscalar(\"index\")\n",
    "T_j = T.iscalar(\"index2\")\n",
    "T_w = T.ftensor4(\"W\") #FhwC\n",
    "\n",
    "\n",
    "def step(i, j, images, fsize, stride, W):\n",
    "    img = images[:, :, i:i + fsize, j:j + fsize] # NFhw\n",
    "\n",
    "    ope = T.tensordot(img, W, axes=([1, 2, 3], [0, 1, 2])) # add some operation  \n",
    "    s = images.shape[2] - fsize + 1\n",
    "    \n",
    "    i = i + ((j+stride) // s)\n",
    "    j = ifelse(T.ge(j+stride, s), j-j, j+stride)\n",
    "    \n",
    "    j = j.astype(\"int32\"); i = i.astype(\"int32\")\n",
    "    return i, j, ope\n",
    "\n",
    "result, updates = theano.scan(fn=step,\n",
    "                              outputs_info=[T_i, T_j, None],\n",
    "                              non_sequences=[T_images, T_fsize, T_stride, T_w], \n",
    "                              n_steps=64)\n",
    "\n",
    "assign_values_at_positions = theano.function(inputs=[T_i, T_j, T_images, T_fsize, T_stride, T_w], outputs=result)\n",
    "\n",
    "# test\n",
    "test_images = numpy.zeros((2, 3, 11, 11))\n",
    "test_images[0, 0, 0, 0] = 1\n",
    "test_images[0, 0, 0, 1] = 1\n",
    "test_images[0, 0, 0, 2] = 1\n",
    "test_images[0, 0, 9, 9] = 1\n",
    "\n",
    "test_images = test_images.astype(numpy.float32)\n",
    "test_W = numpy.zeros((3, 3, 3, 4))\n",
    "test_W[0, 0, 0] = 0.5\n",
    "test_W[2, 2, 0] = 0.3\n",
    "\n",
    "test_W = test_W.astype(numpy.float32)\n",
    "test_fsize = 3\n",
    "i, j, conv = (assign_values_at_positions(0, 0, test_images, test_fsize, 1, test_W))\n",
    "print(i)\n",
    "print(j)\n",
    "print(conv.shape)"
   ]
  },
  {
   "cell_type": "code",
   "execution_count": 7,
   "metadata": {
    "collapsed": false
   },
   "outputs": [
    {
     "name": "stdout",
     "output_type": "stream",
     "text": [
      "(2, 4)\n"
     ]
    }
   ],
   "source": [
    "# test theanos tensordot on a single convolution\n",
    "T_images = T.ftensor4(\"images\") # NFHW\n",
    "T_w = T.ftensor4(\"W\") #FhwC\n",
    "\n",
    "\n",
    "ope = T.tensordot(T_images, T_w, axes=([1, 2, 3], [0, 1, 2])) # add some operation  \n",
    "\n",
    "f = theano.function(inputs=[T_images, T_w], outputs=ope)\n",
    "\n",
    "# test\n",
    "test_images = numpy.zeros((2, 3, 3, 3))\n",
    "test_images[0, 0, 0, 0] = 1\n",
    "test_images[0, 0, 0, 1] = 1\n",
    "test_images[0, 0, 0, 2] = 1\n",
    "test_images = test_images.astype(numpy.float32)\n",
    "test_W = numpy.zeros((3, 3, 3, 4)) \n",
    "test_W[0, 0, 0] = 0.5\n",
    "test_W[2, 2, 0] = 0.3\n",
    "test_W = test_W.astype(numpy.float32)\n",
    "\n",
    "x = (f(test_images, test_W))\n",
    "print(x.shape)"
   ]
  }
 ],
 "metadata": {
  "kernelspec": {
   "display_name": "Python 2",
   "language": "python",
   "name": "python2"
  },
  "language_info": {
   "codemirror_mode": {
    "name": "ipython",
    "version": 2
   },
   "file_extension": ".py",
   "mimetype": "text/x-python",
   "name": "python",
   "nbconvert_exporter": "python",
   "pygments_lexer": "ipython2",
   "version": "2.7.6"
  }
 },
 "nbformat": 4,
 "nbformat_minor": 0
}
